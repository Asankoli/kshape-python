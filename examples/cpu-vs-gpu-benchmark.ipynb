{
 "cells": [
  {
   "cell_type": "code",
   "execution_count": 1,
   "id": "234c2451",
   "metadata": {},
   "outputs": [],
   "source": [
    "import time\n",
    "import numpy as np"
   ]
  },
  {
   "cell_type": "markdown",
   "id": "16aa17df",
   "metadata": {},
   "source": [
    "# Read Data"
   ]
  },
  {
   "cell_type": "code",
   "execution_count": 2,
   "id": "48804069",
   "metadata": {},
   "outputs": [],
   "source": [
    "ts = np.random.rand(500, 5000, 6)"
   ]
  },
  {
   "cell_type": "markdown",
   "id": "78ec245e",
   "metadata": {},
   "source": [
    "# CPU Benchamrk"
   ]
  },
  {
   "cell_type": "code",
   "execution_count": 3,
   "id": "d5f50c0a",
   "metadata": {},
   "outputs": [],
   "source": [
    "from kshape.core import kshape"
   ]
  },
  {
   "cell_type": "code",
   "execution_count": 4,
   "id": "50be2d4c",
   "metadata": {},
   "outputs": [],
   "source": [
    "cpu_times = []\n",
    "for i in range(5):\n",
    "    start_time = time.time()\n",
    "    cpu_kshape_model = kshape(ts, 3)\n",
    "    cpu_times.append(time.time() - start_time)"
   ]
  },
  {
   "cell_type": "code",
   "execution_count": 5,
   "id": "9d152604",
   "metadata": {},
   "outputs": [
    {
     "name": "stdout",
     "output_type": "stream",
     "text": [
      "Mean CPU Benchmark for 5 Runs: 3082.694662809372\n"
     ]
    }
   ],
   "source": [
    "print('Mean CPU Benchmark for 5 Runs:', np.mean(cpu_times))"
   ]
  },
  {
   "cell_type": "markdown",
   "id": "1ebbefdc",
   "metadata": {},
   "source": [
    "# GPU Benchmark"
   ]
  },
  {
   "cell_type": "code",
   "execution_count": 7,
   "id": "185d0a7d",
   "metadata": {},
   "outputs": [],
   "source": [
    "from kshape.core_gpu import kshape"
   ]
  },
  {
   "cell_type": "code",
   "execution_count": 9,
   "id": "ac173d02",
   "metadata": {},
   "outputs": [],
   "source": [
    "gpu_times = []\n",
    "for i in range(5):\n",
    "    start_time = time.time()\n",
    "    gpu_kshape_model = kshape(ts, 3)\n",
    "    gpu_times.append(time.time() - start_time)"
   ]
  },
  {
   "cell_type": "code",
   "execution_count": 10,
   "id": "edff9f0c",
   "metadata": {
    "scrolled": true
   },
   "outputs": [
    {
     "name": "stdout",
     "output_type": "stream",
     "text": [
      "Mean GPU Benchmark for 5 Runs: 296.60947585105896\n"
     ]
    }
   ],
   "source": [
    "print('Mean GPU Benchmark for 5 Runs:', np.mean(gpu_times))"
   ]
  }
 ],
 "metadata": {
  "kernelspec": {
   "display_name": "Python 3 (ipykernel)",
   "language": "python",
   "name": "python3"
  },
  "language_info": {
   "codemirror_mode": {
    "name": "ipython",
    "version": 3
   },
   "file_extension": ".py",
   "mimetype": "text/x-python",
   "name": "python",
   "nbconvert_exporter": "python",
   "pygments_lexer": "ipython3",
   "version": "3.7.13"
  }
 },
 "nbformat": 4,
 "nbformat_minor": 5
}
